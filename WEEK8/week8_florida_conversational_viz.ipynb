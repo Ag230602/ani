{
 "cells": [
  {
   "cell_type": "markdown",
   "id": "43a3cd83",
   "metadata": {},
   "source": [
    "\n",
    "# Week 8 — Track B: Conversational Data Visualization (Florida — Hurricane Irma)\n",
    "\n",
    "This Colab-friendly notebook implements a **natural-language → validated plot** pipeline for a small **Hurricane Irma (Florida)** dataset.\n",
    "- **Input:** NL queries (e.g., “plot wind speed by date”, “show trend for pressure”, “compare rainfall and pressure”)\n",
    "- **Output:** Safe, validated **matplotlib** plots (no seaborn, no color customization)\n",
    "- **Mapping:** A rule-based `nl_to_plot_spec()` converts natural-language to a plot specification\n",
    "- **Dataset:** A small, **embedded** Irma timeline DataFrame (no external files needed)\n",
    "\n",
    "**Deliverables covered:**\n",
    "- ≥2 NL queries converted to plots\n",
    "- Brief notes on **correctness** and **usability**\n"
   ]
  },
  {
   "cell_type": "code",
   "execution_count": 1,
   "id": "1c085ac6",
   "metadata": {},
   "outputs": [
    {
     "name": "stdout",
     "output_type": "stream",
     "text": [
      "Requirement already satisfied: pandas in c:\\users\\adrija\\appdata\\local\\programs\\python\\python313\\lib\\site-packages (2.3.3)\n",
      "Requirement already satisfied: matplotlib in c:\\users\\adrija\\appdata\\local\\programs\\python\\python313\\lib\\site-packages (3.10.7)\n",
      "Requirement already satisfied: numpy>=1.26.0 in c:\\users\\adrija\\appdata\\local\\programs\\python\\python313\\lib\\site-packages (from pandas) (2.3.4)\n",
      "Requirement already satisfied: python-dateutil>=2.8.2 in c:\\users\\adrija\\appdata\\local\\programs\\python\\python313\\lib\\site-packages (from pandas) (2.9.0.post0)\n",
      "Requirement already satisfied: pytz>=2020.1 in c:\\users\\adrija\\appdata\\local\\programs\\python\\python313\\lib\\site-packages (from pandas) (2025.2)\n",
      "Requirement already satisfied: tzdata>=2022.7 in c:\\users\\adrija\\appdata\\local\\programs\\python\\python313\\lib\\site-packages (from pandas) (2025.2)\n",
      "Requirement already satisfied: contourpy>=1.0.1 in c:\\users\\adrija\\appdata\\local\\programs\\python\\python313\\lib\\site-packages (from matplotlib) (1.3.3)\n",
      "Requirement already satisfied: cycler>=0.10 in c:\\users\\adrija\\appdata\\local\\programs\\python\\python313\\lib\\site-packages (from matplotlib) (0.12.1)\n",
      "Requirement already satisfied: fonttools>=4.22.0 in c:\\users\\adrija\\appdata\\local\\programs\\python\\python313\\lib\\site-packages (from matplotlib) (4.60.1)\n",
      "Requirement already satisfied: kiwisolver>=1.3.1 in c:\\users\\adrija\\appdata\\local\\programs\\python\\python313\\lib\\site-packages (from matplotlib) (1.4.9)\n",
      "Requirement already satisfied: packaging>=20.0 in c:\\users\\adrija\\appdata\\local\\programs\\python\\python313\\lib\\site-packages (from matplotlib) (25.0)\n",
      "Requirement already satisfied: pillow>=8 in c:\\users\\adrija\\appdata\\local\\programs\\python\\python313\\lib\\site-packages (from matplotlib) (12.0.0)\n",
      "Requirement already satisfied: pyparsing>=3 in c:\\users\\adrija\\appdata\\local\\programs\\python\\python313\\lib\\site-packages (from matplotlib) (3.2.5)\n",
      "Requirement already satisfied: six>=1.5 in c:\\users\\adrija\\appdata\\local\\programs\\python\\python313\\lib\\site-packages (from python-dateutil>=2.8.2->pandas) (1.17.0)\n"
     ]
    }
   ],
   "source": [
    "# [Optional] Uncomment in Colab if needed\n",
    "!pip install pandas matplotlib\n"
   ]
  },
  {
   "cell_type": "code",
   "execution_count": 2,
   "id": "63850cfe",
   "metadata": {},
   "outputs": [
    {
     "data": {
      "text/html": [
       "<div>\n",
       "<style scoped>\n",
       "    .dataframe tbody tr th:only-of-type {\n",
       "        vertical-align: middle;\n",
       "    }\n",
       "\n",
       "    .dataframe tbody tr th {\n",
       "        vertical-align: top;\n",
       "    }\n",
       "\n",
       "    .dataframe thead th {\n",
       "        text-align: right;\n",
       "    }\n",
       "</style>\n",
       "<table border=\"1\" class=\"dataframe\">\n",
       "  <thead>\n",
       "    <tr style=\"text-align: right;\">\n",
       "      <th></th>\n",
       "      <th>date</th>\n",
       "      <th>wind_speed</th>\n",
       "      <th>pressure</th>\n",
       "      <th>rainfall</th>\n",
       "      <th>storm_category</th>\n",
       "    </tr>\n",
       "  </thead>\n",
       "  <tbody>\n",
       "    <tr>\n",
       "      <th>0</th>\n",
       "      <td>2017-09-05</td>\n",
       "      <td>150</td>\n",
       "      <td>930</td>\n",
       "      <td>1.2</td>\n",
       "      <td>5.0</td>\n",
       "    </tr>\n",
       "    <tr>\n",
       "      <th>1</th>\n",
       "      <td>2017-09-06</td>\n",
       "      <td>155</td>\n",
       "      <td>925</td>\n",
       "      <td>2.1</td>\n",
       "      <td>5.0</td>\n",
       "    </tr>\n",
       "    <tr>\n",
       "      <th>2</th>\n",
       "      <td>2017-09-07</td>\n",
       "      <td>160</td>\n",
       "      <td>920</td>\n",
       "      <td>3.4</td>\n",
       "      <td>5.0</td>\n",
       "    </tr>\n",
       "    <tr>\n",
       "      <th>3</th>\n",
       "      <td>2017-09-08</td>\n",
       "      <td>165</td>\n",
       "      <td>915</td>\n",
       "      <td>4.8</td>\n",
       "      <td>5.0</td>\n",
       "    </tr>\n",
       "    <tr>\n",
       "      <th>4</th>\n",
       "      <td>2017-09-09</td>\n",
       "      <td>130</td>\n",
       "      <td>935</td>\n",
       "      <td>7.9</td>\n",
       "      <td>4.0</td>\n",
       "    </tr>\n",
       "  </tbody>\n",
       "</table>\n",
       "</div>"
      ],
      "text/plain": [
       "        date  wind_speed  pressure  rainfall  storm_category\n",
       "0 2017-09-05         150       930       1.2             5.0\n",
       "1 2017-09-06         155       925       2.1             5.0\n",
       "2 2017-09-07         160       920       3.4             5.0\n",
       "3 2017-09-08         165       915       4.8             5.0\n",
       "4 2017-09-09         130       935       7.9             4.0"
      ]
     },
     "execution_count": 2,
     "metadata": {},
     "output_type": "execute_result"
    }
   ],
   "source": [
    "import pandas as pd\n",
    "import matplotlib.pyplot as plt\n",
    "from datetime import datetime, timedelta\n",
    "\n",
    "# ---- Embedded Florida Hurricane Irma (2017) mini-dataset ----\n",
    "start = datetime(2017, 9, 5)\n",
    "dates = [start + timedelta(days=i) for i in range(8)]\n",
    "data = {\n",
    "    \"date\": dates,\n",
    "    \"wind_speed\": [150, 155, 160, 165, 130, 120, 90, 60],\n",
    "    \"pressure\":   [930, 925, 920, 915, 935, 945, 960, 980],\n",
    "    \"rainfall\":   [1.2, 2.1, 3.4, 4.8, 7.9, 5.0, 2.3, 0.8],\n",
    "    \"storm_category\": [5, 5, 5, 5, 4, 3, None, None],\n",
    "}\n",
    "df = pd.DataFrame(data)\n",
    "df.head()\n"
   ]
  },
  {
   "cell_type": "markdown",
   "id": "61119e44",
   "metadata": {},
   "source": [
    "\n",
    "## NL → Plot Specification\n",
    "\n",
    "We use a **rule-based** mapper that supports:\n",
    "- metrics: `wind_speed`, `pressure`, `rainfall`, `storm_category`\n",
    "- x-axis: always `date`\n",
    "- chart types: `line`, `bar`, `scatter`\n",
    "- comparisons: `compare X and Y` (renders both on same chart using separate calls; still matplotlib-only)\n",
    "\n",
    "The mapper **validates** requested fields against an allowlist and raises a friendly error for unsupported fields.\n"
   ]
  },
  {
   "cell_type": "code",
   "execution_count": 8,
   "id": "928ac494",
   "metadata": {},
   "outputs": [],
   "source": [
    "from typing import Dict, List\n",
    "\n",
    "ALLOWED_COLUMNS = [\"date\", \"wind_speed\", \"pressure\", \"rainfall\", \"storm_category\"]\n",
    "ALLOWED_KINDS = [\"line\", \"bar\", \"scatter\"]\n",
    "\n",
    "def _pick_metric_from_query(q: str) -> str:\n",
    "    ql = q.lower()\n",
    "    if \"wind\" in ql or \"wind_speed\" in ql or \"windspeed\" in ql:\n",
    "        return \"wind_speed\"\n",
    "    if \"pressure\" in ql:\n",
    "        return \"pressure\"\n",
    "    if \"rain\" in ql or \"rainfall\" in ql:\n",
    "        return \"rainfall\"\n",
    "    if \"category\" in ql or \"storm category\" in ql:\n",
    "        return \"storm_category\"\n",
    "    return \"\"\n",
    "\n",
    "def _pick_second_metric_if_compare(q: str) -> str:\n",
    "    ql = q.lower()\n",
    "    metrics = [\"wind_speed\", \"pressure\", \"rainfall\", \"storm_category\"]\n",
    "    present = []\n",
    "    for m in metrics:\n",
    "        if m in ql or m.replace(\"_\",\" \") in ql or (m==\"wind_speed\" and \"wind\" in ql):\n",
    "            present.append(m)\n",
    "    if len(present) >= 2:\n",
    "        return present[1]\n",
    "    base = _pick_metric_from_query(q)\n",
    "    for m in metrics:\n",
    "        if m != base and (m in ql or m.replace(\"_\",\" \") in ql):\n",
    "            return m\n",
    "    return \"\"\n",
    "\n",
    "def nl_to_plot_spec(query: str) -> Dict:\n",
    "    q = query.strip()\n",
    "    if not q:\n",
    "        raise ValueError(\"Empty query\")\n",
    "    ql = q.lower()\n",
    "\n",
    "    kind = \"line\"\n",
    "    if \"bar\" in ql:\n",
    "        kind = \"bar\"\n",
    "    elif \"scatter\" in ql:\n",
    "        kind = \"scatter\"\n",
    "\n",
    "    x = \"date\"\n",
    "    compare = (\"compare\" in ql) or (\"vs\" in ql) or (\"versus\" in ql)\n",
    "    y = _pick_metric_from_query(q)\n",
    "    y2 = _pick_second_metric_if_compare(q) if compare else \"\"\n",
    "\n",
    "    if x not in ALLOWED_COLUMNS:\n",
    "        raise ValueError(f\"x='{x}' is not allowed.\")\n",
    "    if not y:\n",
    "        raise ValueError(\"Could not detect a metric from your query. Try wind, pressure, rainfall, or category.\")\n",
    "    if y not in ALLOWED_COLUMNS:\n",
    "        raise ValueError(f\"y='{y}' is not allowed.\")\n",
    "    if y2 and y2 not in ALLOWED_COLUMNS:\n",
    "        raise ValueError(f\"y2='{y2}' is not allowed.\")\n",
    "    if kind not in ALLOWED_KINDS:\n",
    "        raise ValueError(f\"kind='{kind}' is not supported. Use one of: {ALLOWED_KINDS}\")\n",
    "\n",
    "    return {\"x\": x, \"y\": y, \"y2\": y2, \"kind\": kind, \"title\": query}\n"
   ]
  },
  {
   "cell_type": "markdown",
   "id": "cfd6f7ff",
   "metadata": {},
   "source": [
    "\n",
    "## Plot Generator (Matplotlib only)\n",
    "- Single-series or two-series (for `compare`) plotting\n",
    "- No seaborn and no color customization\n"
   ]
  },
  {
   "cell_type": "code",
   "execution_count": 7,
   "id": "58ba695d",
   "metadata": {},
   "outputs": [],
   "source": [
    "def generate_plot(df: pd.DataFrame, spec: Dict):\n",
    "    import matplotlib.pyplot as plt\n",
    "    xcol, ycol, y2col = spec[\"x\"], spec[\"y\"], spec.get(\"y2\", \"\")\n",
    "    kind = spec[\"kind\"]\n",
    "    title = spec.get(\"title\", f\"{kind.capitalize()} of {ycol} by {xcol}\")\n",
    "\n",
    "    if xcol not in df.columns or ycol not in df.columns:\n",
    "        raise ValueError(\"Requested columns not present in DataFrame.\")\n",
    "    if y2col and y2col not in df.columns:\n",
    "        raise ValueError(\"Requested second column not present in DataFrame.\")\n",
    "\n",
    "    fig = plt.figure()\n",
    "    x = df[xcol]\n",
    "    y = df[ycol]\n",
    "\n",
    "    if kind == \"line\":\n",
    "        plt.plot(x, y, label=ycol)\n",
    "        if y2col:\n",
    "            plt.plot(x, df[y2col], label=y2col)\n",
    "    elif kind == \"bar\":\n",
    "        plt.bar(x, y, label=ycol)\n",
    "        if y2col:\n",
    "            import numpy as np\n",
    "            xi = np.arange(len(x))\n",
    "            plt.clf()\n",
    "            fig = plt.figure()\n",
    "            w = 0.4\n",
    "            plt.bar(xi - w/2, y, width=w, label=ycol)\n",
    "            plt.bar(xi + w/2, df[y2col], width=w, label=y2col)\n",
    "            plt.xticks(xi, [d.strftime(\"%Y-%m-%d\") if hasattr(d, \"strftime\") else str(d) for d in x], rotation=45)\n",
    "    elif kind == \"scatter\":\n",
    "        plt.scatter(x, y, label=ycol)\n",
    "        if y2col:\n",
    "            plt.scatter(x, df[y2col], label=y2col)\n",
    "    else:\n",
    "        raise ValueError(\"Unsupported kind\")\n",
    "\n",
    "    plt.xlabel(xcol)\n",
    "    plt.ylabel(f\"{ycol}\" if not y2col else f\"{ycol} (+ {y2col})\")\n",
    "    plt.title(title)\n",
    "    plt.grid(True)\n",
    "    if y2col:\n",
    "        plt.legend()\n",
    "    plt.show()\n"
   ]
  },
  {
   "cell_type": "markdown",
   "id": "921d7c66",
   "metadata": {},
   "source": [
    "\n",
    "## Demo: Conversational Queries → Plots\n",
    "The following cell runs at least two natural-language queries and shows the generated plot and spec.\n"
   ]
  },
  {
   "cell_type": "code",
   "execution_count": 5,
   "id": "eaad6380",
   "metadata": {},
   "outputs": [
    {
     "name": "stdout",
     "output_type": "stream",
     "text": [
      "\n",
      "Query: show wind speed trend over time\n",
      "Spec: {'x': 'date', 'y': 'wind_speed', 'y2': '', 'kind': 'line', 'title': 'show wind speed trend over time'}\n"
     ]
    },
    {
     "data": {
      "image/png": "[encoded data removed]",
      "text/plain": [
       "<Figure size 640x480 with 1 Axes>"
      ]
     },
     "metadata": {},
     "output_type": "display_data"
    },
    {
     "name": "stdout",
     "output_type": "stream",
     "text": [
      "\n",
      "Query: compare rainfall and pressure across days\n",
      "Spec: {'x': 'date', 'y': 'pressure', 'y2': 'rainfall', 'kind': 'line', 'title': 'compare rainfall and pressure across days'}\n"
     ]
    },
    {
     "data": {
      "image/png": "[encoded data removed]",
      "text/plain": [
       "<Figure size 640x480 with 1 Axes>"
      ]
     },
     "metadata": {},
     "output_type": "display_data"
    }
   ],
   "source": [
    "queries = [\n",
    "    \"show wind speed trend over time\",\n",
    "    \"compare rainfall and pressure across days\",\n",
    "]\n",
    "\n",
    "for q in queries:\n",
    "    print(f\"\\nQuery: {q}\")\n",
    "    try:\n",
    "        spec = nl_to_plot_spec(q)\n",
    "        print(\"Spec:\", spec)\n",
    "        generate_plot(df, spec)\n",
    "    except Exception as e:\n",
    "        print(\"Error:\", e)\n"
   ]
  },
  {
   "cell_type": "markdown",
   "id": "09e1efd2",
   "metadata": {},
   "source": [
    "\n",
    "## Notes on Correctness & Usability\n",
    "\n",
    "**Correctness**\n",
    "- The mapper only allows known columns (`wind_speed`, `pressure`, `rainfall`, `storm_category`) and `date` for x-axis.\n",
    "- Ambiguous queries are rejected with a helpful message.\n",
    "- The dataset is illustrative but aligned with Irma’s timeline near Florida landfall (2017-09-10).\n",
    "\n",
    "**Usability**\n",
    "- Queries with keywords like \"wind\", \"rain\", \"pressure\", \"category\", \"compare\", \"bar\", \"scatter\" are supported.\n",
    "- The derived spec is printed before plotting for transparency.\n",
    "- Matplotlib-only plots ensure compatibility (no seaborn/styles).\n",
    "\n",
    "**Limitations / Future Work**\n",
    "- Extend synonyms and add a lightweight LLM-based fallback for more flexible phrasing.\n",
    "- Support multiple x-axes or resampling for sub-daily data.\n"
   ]
  },
  {
   "cell_type": "markdown",
   "id": "3262391a",
   "metadata": {},
   "source": [
    "\n",
    "### (Optional) Save the dataset used in this notebook\n"
   ]
  },
  {
   "cell_type": "code",
   "execution_count": 6,
   "id": "bb365138",
   "metadata": {},
   "outputs": [
    {
     "name": "stdout",
     "output_type": "stream",
     "text": [
      "Saved to florida_irma_embedded.csv\n"
     ]
    }
   ],
   "source": [
    "df.to_csv(\"florida_irma_embedded.csv\", index=False)\n",
    "print(\"Saved to florida_irma_embedded.csv\")\n"
   ]
  }
 ],
 "metadata": {
  "kernelspec": {
   "display_name": "Python 3",
   "language": "python",
   "name": "python3"
  },
  "language_info": {
   "codemirror_mode": {
    "name": "ipython",
    "version": 3
   },
   "file_extension": ".py",
   "mimetype": "text/x-python",
   "name": "python",
   "nbconvert_exporter": "python",
   "pygments_lexer": "ipython3",
   "version": "3.12.3"
  }
 },
 "nbformat": 4,
 "nbformat_minor": 5
}
